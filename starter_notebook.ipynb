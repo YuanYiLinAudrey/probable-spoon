{
  "cells": [
    {
      "cell_type": "markdown",
      "metadata": {
        "id": "view-in-github",
        "colab_type": "text"
      },
      "source": [
        "<a href=\"https://colab.research.google.com/github/YuanYiLinAudrey/probable-spoon/blob/main/starter_notebook.ipynb\" target=\"_parent\"><img src=\"https://colab.research.google.com/assets/colab-badge.svg\" alt=\"Open In Colab\"/></a>"
      ]
    },
    {
      "cell_type": "markdown",
      "id": "72e78a05",
      "metadata": {
        "id": "72e78a05"
      },
      "source": [
        "# 🌦️ WeatherWise – Starter Notebook\n",
        "\n",
        "Welcome to your **WeatherWise** project notebook! This scaffold is designed to help you build your weather advisor app using Python, visualisations, and AI-enhanced development.\n",
        "\n",
        "---\n",
        "\n",
        "📄 **Full Assignment Specification**  \n",
        "See [`ASSIGNMENT.md`](ASSIGNMENT.md) or check the LMS for full details.\n",
        "\n",
        "📝 **Quick Refresher**  \n",
        "A one-page summary is available in [`resources/assignment-summary.md`](resources/assignment-summary.md).\n",
        "\n",
        "---\n",
        "\n",
        "🧠 **This Notebook Structure is Optional**  \n",
        "You’re encouraged to reorganise, rename sections, or remove scaffold cells if you prefer — as long as your final version meets the requirements.\n",
        "\n",
        "✅ You may delete this note before submission.\n",
        "\n"
      ]
    },
    {
      "cell_type": "markdown",
      "id": "fa8c7f6c",
      "metadata": {
        "id": "fa8c7f6c"
      },
      "source": [
        "## 🧰 Setup and Imports\n",
        "\n",
        "This section imports commonly used packages and installs any additional tools used in the project.\n",
        "\n",
        "- You may not need all of these unless you're using specific features (e.g. visualisations, advanced prompting).\n",
        "- The notebook assumes the following packages are **pre-installed** in the provided environment or installable via pip:\n",
        "  - `requests`, `matplotlib`, `pyinputplus`\n",
        "  - `fetch-my-weather` (for accessing weather data easily)\n",
        "  - `hands-on-ai` (for AI logging, comparisons, or prompting tools)\n",
        "\n",
        "If you're running this notebook in **Google Colab**, uncomment the following lines to install the required packages.\n"
      ]
    },
    {
      "cell_type": "code",
      "execution_count": null,
      "id": "70c3f3f1",
      "metadata": {
        "id": "70c3f3f1"
      },
      "outputs": [],
      "source": [
        "# 🧪 Optional packages — uncomment if needed in Colab or JupyterHub\n",
        "!pip install fetch-my-weather\n",
        "!pip install hands-on-ai\n"
      ]
    },
    {
      "cell_type": "code",
      "source": [
        "import os\n",
        "\n",
        "os.environ['HANDS_ON_AI_SERVER'] = 'http://ollama.serveur.au'\n",
        "os.environ['HANDS_ON_AI_MODEL'] = 'granite3.2'\n",
        "os.environ['HANDS_ON_AI_API_KEY'] = input('Enter your API key: ')"
      ],
      "metadata": {
        "id": "B2JKlJfrGgIb"
      },
      "id": "B2JKlJfrGgIb",
      "execution_count": null,
      "outputs": []
    },
    {
      "cell_type": "markdown",
      "id": "59ae7543",
      "metadata": {
        "id": "59ae7543"
      },
      "source": [
        "## 📦 Setup and Configuration\n",
        "Import required packages and setup environment."
      ]
    },
    {
      "cell_type": "code",
      "execution_count": null,
      "id": "f1dd051e",
      "metadata": {
        "id": "f1dd051e"
      },
      "outputs": [],
      "source": [
        "import requests\n",
        "import matplotlib.pyplot as plt\n",
        "import pyinputplus as pyip\n",
        "# ✅ Import after installing (if needed)\n",
        "from fetch_my_weather import get_weather\n",
        "from hands_on_ai.chat import get_response\n",
        "\n",
        "# Add any other setup code here"
      ]
    },
    {
      "cell_type": "markdown",
      "id": "f736ade3",
      "metadata": {
        "id": "f736ade3"
      },
      "source": [
        "## 🌤️ Weather Data Functions"
      ]
    },
    {
      "cell_type": "code",
      "execution_count": 22,
      "id": "7a2c7cd0",
      "metadata": {
        "id": "7a2c7cd0"
      },
      "outputs": [],
      "source": [
        "def get_weather_data(location, forecast_days=3):\n",
        "    \"\"\"\n",
        "    Retrieve weather data for a given location and number of forecast days.\n",
        "    This is a mock implementation for testing purposes.\n",
        "    \"\"\"\n",
        "    return {\n",
        "        \"location\": location,\n",
        "        \"forecast\": [\n",
        "            {\"date\": \"2025-05-18\", \"maxtempC\": \"25\", \"mintempC\": \"16\"},\n",
        "            {\"date\": \"2025-05-19\", \"maxtempC\": \"22\", \"mintempC\": \"15\"},\n",
        "            {\"date\": \"2025-05-20\", \"maxtempC\": \"20\", \"mintempC\": \"14\"},\n",
        "        ]\n",
        "    }\n"
      ]
    },
    {
      "cell_type": "markdown",
      "id": "8a744fdc",
      "metadata": {
        "id": "8a744fdc"
      },
      "source": [
        "## 📊 Visualisation Functions"
      ]
    },
    {
      "cell_type": "code",
      "execution_count": 34,
      "id": "9dc3bf85",
      "metadata": {
        "id": "9dc3bf85"
      },
      "outputs": [],
      "source": [
        "import matplotlib.pyplot as plt\n",
        "\n",
        "# Temperature Visualisation Function\n",
        "def create_temperature_visualisation(weather_data):\n",
        "    forecast = weather_data[\"forecast\"]\n",
        "    dates = [day[\"date\"] for day in forecast]\n",
        "    max_temps = [int(day[\"maxtemp°C\"]) for day in forecast]\n",
        "    min_temps = [int(day[\"mintemp°C\"]) for day in forecast]\n",
        "\n",
        "    plt.figure(figsize=(8, 5))\n",
        "    plt.plot(dates, max_temps, label=\"Max Temp (°C)\", marker='o')\n",
        "    plt.plot(dates, min_temps, label=\"Min Temp (°C)\", marker='o')\n",
        "    plt.title(\"Temperature Forecast\")\n",
        "    plt.xlabel(\"Date\")\n",
        "    plt.ylabel(\"Temperature (°C)\")\n",
        "    plt.legend()\n",
        "    plt.grid(True)\n",
        "    plt.show()\n",
        "\n",
        "# Precipitation Visualisation Function\n",
        "def create_precipitation_visualisation(weather_data):\n",
        "    forecast = weather_data[\"forecast\"]\n",
        "    dates = [day[\"date\"] for day in forecast]\n",
        "    precipitations = [int(day.get(\"precipitation_mm\", 0)) for day in forecast]\n",
        "\n",
        "    plt.figure(figsize=(8, 5))\n",
        "    plt.bar(dates, precipitations, color='skyblue')\n",
        "    plt.title(\"Precipitation Forecast\")\n",
        "    plt.xlabel(\"Date\")\n",
        "    plt.ylabel(\"Precipitation (mm)\")\n",
        "    plt.grid(True)\n",
        "    plt.show()\n"
      ]
    },
    {
      "cell_type": "code",
      "source": [
        "\n",
        "def create_precipitation_visualisation(weather_data, output_type='display'):\n",
        "    \"\"\"\n",
        "    Create visualisation of precipitation data.\n",
        "\n",
        "    Args:\n",
        "        weather_data (dict): The processed weather data\n",
        "        output_type (str): Either 'display' to show in notebook or 'figure' to return the figure\n",
        "\n",
        "    Returns:\n",
        "        If output_type is 'figure', returns the matplotlib figure object\n",
        "        Otherwise, displays the visualisation in the notebook\n",
        "    \"\"\"\n",
        "    pass"
      ],
      "metadata": {
        "id": "HpOlQylYG5Ho"
      },
      "id": "HpOlQylYG5Ho",
      "execution_count": null,
      "outputs": []
    },
    {
      "cell_type": "code",
      "source": [
        "import matplotlib.pyplot as plt\n",
        "\n",
        "def create_temperature_visualisation(weather_data):\n",
        "    forecast = weather_data[\"forecast\"]\n",
        "    dates = [day[\"date\"] for day in forecast]\n",
        "    max_temps = [int(day[\"maxtemp°C\"]) for day in forecast]\n",
        "    min_temps = [int(day[\"mintemp°C\"]) for day in forecast]\n",
        "\n",
        "    plt.figure(figsize=(8, 5))\n",
        "    plt.plot(dates, max_temps, label=\"Max Temp (°C)\", marker='o')\n",
        "    plt.plot(dates, min_temps, label=\"Min Temp (°C)\", marker='o')\n",
        "    plt.title(\"Temperature Forecast\")\n",
        "    plt.xlabel(\"Date\")\n",
        "    plt.ylabel(\"Temperature (°C)\")\n",
        "    plt.legend()\n",
        "    plt.grid(True)\n",
        "    plt.show()\n",
        "\n",
        "\n",
        "def create_precipitation_visualisation(weather_data):\n",
        "    forecast = weather_data[\"forecast\"]\n",
        "    dates = [day[\"date\"] for day in forecast]\n",
        "    precipitations = [int(day.get(\"precipitation_mm\", 0)) for day in forecast]\n",
        "\n",
        "    plt.figure(figsize=(8, 5))\n",
        "    plt.bar(dates, precipitations, color='skyblue')\n",
        "    plt.title(\"Precipitation Forecast\")\n",
        "    plt.xlabel(\"Date\")\n",
        "    plt.ylabel(\"Precipitation (mm)\")\n",
        "    plt.grid(axis='y')\n",
        "    plt.show()\n"
      ],
      "metadata": {
        "id": "fxhbhA9KIb0p"
      },
      "id": "fxhbhA9KIb0p",
      "execution_count": 30,
      "outputs": []
    },
    {
      "cell_type": "markdown",
      "id": "9f95d160",
      "metadata": {
        "id": "9f95d160"
      },
      "source": [
        "## 🤖 Natural Language Processing"
      ]
    },
    {
      "cell_type": "code",
      "execution_count": 16,
      "id": "bcc5833e",
      "metadata": {
        "id": "bcc5833e"
      },
      "outputs": [],
      "source": [
        "def parse_weather_question(question):\n",
        "    \"\"\"\n",
        "    Parse a natural language weather question.\n",
        "\n",
        "    Args:\n",
        "        question (str): User’s weather-related question\n",
        "\n",
        "    Returns:\n",
        "        dict: Extracted information including location, time period, and weather attribute\n",
        "    \"\"\"\n",
        "    # 默认值\n",
        "    time_period = \"today\"\n",
        "    attribute = \"temperature\"\n",
        "    location = \"Perth\"  # 默认地点\n",
        "\n",
        "    # 识别时间关键词\n",
        "    if \"tomorrow\" in question.lower():\n",
        "        time_period = \"tomorrow\"\n",
        "    elif \"next 3 days\" in question.lower():\n",
        "        time_period = \"next 3 days\"\n",
        "\n",
        "    # 识别天气类型关键词\n",
        "    if \"rain\" in question.lower() or \"precipitation\" in question.lower():\n",
        "        attribute = \"precipitation\"\n",
        "    elif \"temperature\" in question.lower() or \"hot\" in question.lower() or \"cold\" in question.lower():\n",
        "        attribute = \"temperature\"\n",
        "    elif \"humidity\" in question.lower():\n",
        "        attribute = \"humidity\"\n",
        "\n",
        "    # 识别地点关键词（可扩展更多城市）\n",
        "    if \"sydney\" in question.lower():\n",
        "        location = \"Sydney\"\n",
        "    elif \"melbourne\" in question.lower():\n",
        "        location = \"Melbourne\"\n",
        "    elif \"brisbane\" in question.lower():\n",
        "        location = \"Brisbane\"\n",
        "    elif \"perth\" in question.lower():\n",
        "        location = \"Perth\"\n",
        "\n",
        "    return {\n",
        "        \"location\": location,\n",
        "        \"time_period\": time_period,\n",
        "        \"attribute\": attribute\n",
        "    }\n",
        "    # 识别地点关键词（可扩展更多城市）\n",
        "    if \"sydney\" in question.lower():\n",
        "        location = \"Sydney\"\n",
        "    elif \"melbourne\" in question.lower():\n",
        "        location = \"Melbourne\"\n",
        "    elif \"brisbane\" in question.lower():\n",
        "        location = \"Brisbane\"\n",
        "    elif \"perth\" in question.lower():\n",
        "        location = \"Perth\"\n",
        "\n",
        "    return {\n",
        "        \"location\": location,\n",
        "        \"time_period\": time_period,\n",
        "        \"attribute\": attribute\n",
        "    }\n"
      ]
    },
    {
      "cell_type": "code",
      "source": [
        "def get_weather_data(location, forecast_days=3):\n",
        "    \"\"\"\n",
        "    Retrieve weather data for a given location and number of forecast days.\n",
        "    This is a mock implementation for testing purposes.\n",
        "    \"\"\"\n",
        "    return {\n",
        "        \"location\": location,\n",
        "        \"forecast\": [\n",
        "            {\"date\": \"2025-05-18\", \"maxtempC\": \"25\", \"mintempC\": \"16\", \"totalprecipMM\": \"0.0\"},\n",
        "            {\"date\": \"2025-05-19\", \"maxtempC\": \"22\", \"mintempC\": \"15\", \"totalprecipMM\": \"1.2\"},\n",
        "            {\"date\": \"2025-05-20\", \"maxtempC\": \"20\", \"mintempC\": \"14\", \"totalprecipMM\": \"3.0\"},\n",
        "        ]\n",
        "    }\n"
      ],
      "metadata": {
        "id": "2HtrSjMHy7v1"
      },
      "id": "2HtrSjMHy7v1",
      "execution_count": 19,
      "outputs": []
    },
    {
      "cell_type": "markdown",
      "id": "0d85225e",
      "metadata": {
        "id": "0d85225e"
      },
      "source": [
        "## 🧭 User Interface"
      ]
    },
    {
      "cell_type": "code",
      "execution_count": null,
      "id": "fa6cb0f6",
      "metadata": {
        "id": "fa6cb0f6"
      },
      "outputs": [],
      "source": [
        "# Define menu functions using pyinputplus or ipywidgets here"
      ]
    },
    {
      "cell_type": "markdown",
      "id": "d643a53c",
      "metadata": {
        "id": "d643a53c"
      },
      "source": [
        "## 🧩 Main Application Logic"
      ]
    },
    {
      "cell_type": "code",
      "execution_count": null,
      "id": "a9e2e805",
      "metadata": {
        "id": "a9e2e805"
      },
      "outputs": [],
      "source": [
        "# Tie everything together here\n",
        "def generate_weather_response(parsed_question, weather_data):\n",
        "    \"\"\"\n",
        "    Generate a natural language response to a weather question.\n",
        "\n",
        "    Args:\n",
        "        parsed_question (dict): Parsed question data\n",
        "        weather_data (dict): Weather data\n",
        "\n",
        "    Returns:\n",
        "        str: Natural language response\n",
        "    \"\"\"\n",
        "    pass"
      ]
    },
    {
      "cell_type": "code",
      "source": [
        "def generate_weather_response(parsed, weather_data):\n",
        "    \"\"\"\n",
        "    Generate a natural language response using parsed question and weather data.\n",
        "    \"\"\"\n",
        "    location = parsed[\"location\"]\n",
        "    time_period = parsed[\"time_period\"]\n",
        "    attribute = parsed[\"attribute\"]\n",
        "    value = \"N/A\"\n",
        "\n",
        "    # 根据时间段确定目标日期\n",
        "    if time_period == \"today\":\n",
        "        target_date = weather_data[\"forecast\"][0][\"date\"]\n",
        "    elif time_period == \"tomorrow\":\n",
        "        target_date = weather_data[\"forecast\"][1][\"date\"]\n",
        "    elif time_period == \"next 3 days\":\n",
        "        values = [day.get(attribute + \"°C\", \"N/A\") for day in weather_data[\"forecast\"]]\n",
        "        return f\"In {location} over the next 3 days, the expected {attribute} values are: {', '.join(values)}.\"\n",
        "\n",
        "    # 遍历 forecast，找匹配日期的值（调试版本）\n",
        "    for day in weather_data[\"forecast\"]:\n",
        "        print(\"🧪 当前日期数据：\", day)\n",
        "        if day[\"date\"] == target_date:\n",
        "            value = day.get(attribute + \"°C\", \"N/A\")\n",
        "            break\n",
        "\n",
        "    return f\"In {location} {time_period}, the expected {attribute} is {value}.\"\n"
      ],
      "metadata": {
        "id": "itXdQwEo7w5a"
      },
      "id": "itXdQwEo7w5a",
      "execution_count": 29,
      "outputs": []
    },
    {
      "cell_type": "code",
      "source": [
        "# Test generate_weather_response\n",
        "parsed = {\n",
        "    \"location\": \"Perth\",\n",
        "    \"time_period\": \"tomorrow\",\n",
        "    \"attribute\": \"maxtempC\"\n",
        "\n",
        "}\n",
        "weather = get_weather_data(\"Perth\")\n",
        "response = generate_weather_response(parsed, weather)\n",
        "print(\"💬 Response:\", response)\n"
      ],
      "metadata": {
        "colab": {
          "base_uri": "https://localhost:8080/"
        },
        "id": "VUNlHY7472ZO",
        "outputId": "21e855fe-d5b0-44cc-ed83-3b06b8ae6a62"
      },
      "id": "VUNlHY7472ZO",
      "execution_count": 26,
      "outputs": [
        {
          "output_type": "stream",
          "name": "stdout",
          "text": [
            "💬 Response: In Perth tomorrow, the expected maxtempC is N/A.\n"
          ]
        }
      ]
    },
    {
      "cell_type": "code",
      "source": [
        "def main_menu():\n",
        "    while True:\n",
        "        print(\"\\n🌤️ WeatherWise Menu\")\n",
        "        print(\"1. Ask a weather question\")\n",
        "        print(\"2. Show temperature visualisation\")\n",
        "        print(\"3. Show precipitation visualisation\")\n",
        "        print(\"4. Exit\")\n",
        "        choice = input(\"Enter your choice (1–4): \")\n",
        "\n",
        "        if choice == '1':\n",
        "            question = input(\"Ask your weather question: \")\n",
        "            parsed = parse_weather_question(question)\n",
        "            weather = get_weather_data(parsed[\"location\"])\n",
        "            response = generate_weather_response(parsed, weather)\n",
        "            print(\"\\n📌 Answer:\", response)\n",
        "\n",
        "        elif choice == '2':\n",
        "            location = input(\"Enter a city (e.g., Perth): \")\n",
        "            weather = get_weather_data(location)\n",
        "            create_temperature_visualisation(weather)\n",
        "\n",
        "        elif choice == '3':\n",
        "            location = input(\"Enter a city (e.g., Perth): \")\n",
        "            weather = get_weather_data(location)\n",
        "            create_precipitation_visualisation(weather)\n",
        "\n",
        "        elif choice == '4':\n",
        "            print(\"Exiting WeatherWise. Goodbye!\")\n",
        "            break\n",
        "\n",
        "        else:\n",
        "            print(\"Invalid choice. Please enter a number from 1 to 4.\")\n"
      ],
      "metadata": {
        "id": "6rJcovcm-ubs"
      },
      "id": "6rJcovcm-ubs",
      "execution_count": 27,
      "outputs": []
    },
    {
      "cell_type": "code",
      "source": [
        "main_menu()"
      ],
      "metadata": {
        "colab": {
          "base_uri": "https://localhost:8080/",
          "height": 606
        },
        "id": "EXB1TnDj_T-T",
        "outputId": "1103d99a-73ea-4eae-9ac3-be2b79d86d06"
      },
      "id": "EXB1TnDj_T-T",
      "execution_count": 28,
      "outputs": [
        {
          "output_type": "stream",
          "name": "stdout",
          "text": [
            "\n",
            "🌤️ WeatherWise Menu\n",
            "1. Ask a weather question\n",
            "2. Show temperature visualisation\n",
            "3. Show precipitation visualisation\n",
            "4. Exit\n",
            "Enter your choice (1–4): 1\n",
            "Ask your weather question: Will it rain in Perth tomorrow?\n",
            "\n",
            "📌 Answer: In Perth tomorrow, the expected precipitation is N/A.\n",
            "\n",
            "🌤️ WeatherWise Menu\n",
            "1. Ask a weather question\n",
            "2. Show temperature visualisation\n",
            "3. Show precipitation visualisation\n",
            "4. Exit\n"
          ]
        },
        {
          "output_type": "error",
          "ename": "KeyboardInterrupt",
          "evalue": "Interrupted by user",
          "traceback": [
            "\u001b[0;31m---------------------------------------------------------------------------\u001b[0m",
            "\u001b[0;31mKeyboardInterrupt\u001b[0m                         Traceback (most recent call last)",
            "\u001b[0;32m<ipython-input-28-a587427b4ad1>\u001b[0m in \u001b[0;36m<cell line: 0>\u001b[0;34m()\u001b[0m\n\u001b[0;32m----> 1\u001b[0;31m \u001b[0mmain_menu\u001b[0m\u001b[0;34m(\u001b[0m\u001b[0;34m)\u001b[0m\u001b[0;34m\u001b[0m\u001b[0;34m\u001b[0m\u001b[0m\n\u001b[0m",
            "\u001b[0;32m<ipython-input-27-cb35158fc2fb>\u001b[0m in \u001b[0;36mmain_menu\u001b[0;34m()\u001b[0m\n\u001b[1;32m      6\u001b[0m         \u001b[0mprint\u001b[0m\u001b[0;34m(\u001b[0m\u001b[0;34m\"3. Show precipitation visualisation\"\u001b[0m\u001b[0;34m)\u001b[0m\u001b[0;34m\u001b[0m\u001b[0;34m\u001b[0m\u001b[0m\n\u001b[1;32m      7\u001b[0m         \u001b[0mprint\u001b[0m\u001b[0;34m(\u001b[0m\u001b[0;34m\"4. Exit\"\u001b[0m\u001b[0;34m)\u001b[0m\u001b[0;34m\u001b[0m\u001b[0;34m\u001b[0m\u001b[0m\n\u001b[0;32m----> 8\u001b[0;31m         \u001b[0mchoice\u001b[0m \u001b[0;34m=\u001b[0m \u001b[0minput\u001b[0m\u001b[0;34m(\u001b[0m\u001b[0;34m\"Enter your choice (1–4): \"\u001b[0m\u001b[0;34m)\u001b[0m\u001b[0;34m\u001b[0m\u001b[0;34m\u001b[0m\u001b[0m\n\u001b[0m\u001b[1;32m      9\u001b[0m \u001b[0;34m\u001b[0m\u001b[0m\n\u001b[1;32m     10\u001b[0m         \u001b[0;32mif\u001b[0m \u001b[0mchoice\u001b[0m \u001b[0;34m==\u001b[0m \u001b[0;34m'1'\u001b[0m\u001b[0;34m:\u001b[0m\u001b[0;34m\u001b[0m\u001b[0;34m\u001b[0m\u001b[0m\n",
            "\u001b[0;32m/usr/local/lib/python3.11/dist-packages/ipykernel/kernelbase.py\u001b[0m in \u001b[0;36mraw_input\u001b[0;34m(self, prompt)\u001b[0m\n\u001b[1;32m   1175\u001b[0m                 \u001b[0;34m\"raw_input was called, but this frontend does not support input requests.\"\u001b[0m\u001b[0;34m\u001b[0m\u001b[0;34m\u001b[0m\u001b[0m\n\u001b[1;32m   1176\u001b[0m             )\n\u001b[0;32m-> 1177\u001b[0;31m         return self._input_request(\n\u001b[0m\u001b[1;32m   1178\u001b[0m             \u001b[0mstr\u001b[0m\u001b[0;34m(\u001b[0m\u001b[0mprompt\u001b[0m\u001b[0;34m)\u001b[0m\u001b[0;34m,\u001b[0m\u001b[0;34m\u001b[0m\u001b[0;34m\u001b[0m\u001b[0m\n\u001b[1;32m   1179\u001b[0m             \u001b[0mself\u001b[0m\u001b[0;34m.\u001b[0m\u001b[0m_parent_ident\u001b[0m\u001b[0;34m[\u001b[0m\u001b[0;34m\"shell\"\u001b[0m\u001b[0;34m]\u001b[0m\u001b[0;34m,\u001b[0m\u001b[0;34m\u001b[0m\u001b[0;34m\u001b[0m\u001b[0m\n",
            "\u001b[0;32m/usr/local/lib/python3.11/dist-packages/ipykernel/kernelbase.py\u001b[0m in \u001b[0;36m_input_request\u001b[0;34m(self, prompt, ident, parent, password)\u001b[0m\n\u001b[1;32m   1217\u001b[0m             \u001b[0;32mexcept\u001b[0m \u001b[0mKeyboardInterrupt\u001b[0m\u001b[0;34m:\u001b[0m\u001b[0;34m\u001b[0m\u001b[0;34m\u001b[0m\u001b[0m\n\u001b[1;32m   1218\u001b[0m                 \u001b[0;31m# re-raise KeyboardInterrupt, to truncate traceback\u001b[0m\u001b[0;34m\u001b[0m\u001b[0;34m\u001b[0m\u001b[0m\n\u001b[0;32m-> 1219\u001b[0;31m                 \u001b[0;32mraise\u001b[0m \u001b[0mKeyboardInterrupt\u001b[0m\u001b[0;34m(\u001b[0m\u001b[0;34m\"Interrupted by user\"\u001b[0m\u001b[0;34m)\u001b[0m \u001b[0;32mfrom\u001b[0m \u001b[0;32mNone\u001b[0m\u001b[0;34m\u001b[0m\u001b[0;34m\u001b[0m\u001b[0m\n\u001b[0m\u001b[1;32m   1220\u001b[0m             \u001b[0;32mexcept\u001b[0m \u001b[0mException\u001b[0m\u001b[0;34m:\u001b[0m\u001b[0;34m\u001b[0m\u001b[0;34m\u001b[0m\u001b[0m\n\u001b[1;32m   1221\u001b[0m                 \u001b[0mself\u001b[0m\u001b[0;34m.\u001b[0m\u001b[0mlog\u001b[0m\u001b[0;34m.\u001b[0m\u001b[0mwarning\u001b[0m\u001b[0;34m(\u001b[0m\u001b[0;34m\"Invalid Message:\"\u001b[0m\u001b[0;34m,\u001b[0m \u001b[0mexc_info\u001b[0m\u001b[0;34m=\u001b[0m\u001b[0;32mTrue\u001b[0m\u001b[0;34m)\u001b[0m\u001b[0;34m\u001b[0m\u001b[0;34m\u001b[0m\u001b[0m\n",
            "\u001b[0;31mKeyboardInterrupt\u001b[0m: Interrupted by user"
          ]
        }
      ]
    },
    {
      "cell_type": "markdown",
      "id": "fde44479",
      "metadata": {
        "id": "fde44479"
      },
      "source": [
        "## 🧪 Testing and Examples"
      ]
    },
    {
      "cell_type": "code",
      "execution_count": null,
      "id": "4e573901",
      "metadata": {
        "id": "4e573901"
      },
      "outputs": [],
      "source": [
        "# Include sample input/output for each function"
      ]
    },
    {
      "cell_type": "markdown",
      "id": "d2885880",
      "metadata": {
        "id": "d2885880"
      },
      "source": [
        "## 🗂️ AI Prompting Log (Optional)\n",
        "Add markdown cells here summarising prompts used or link to AI conversations in the `ai-conversations/` folder."
      ]
    },
    {
      "cell_type": "markdown",
      "source": [
        "# Test the natural language parsing function\n",
        "assert parse_weather_question(\"Will it rain in Perth tomorrow?\")[\"location\"] == \"Perth\"\n",
        "assert parse_weather_question(\"What's the temperature in Sydney today?\")[\"attribute\"] == \"temperature\"\n",
        "\n",
        "# Test if the weather data returns correctly\n",
        "sample = get_weather_data(\"Melbourne\", forecast_days=3)\n",
        "assert isinstance(sample, dict)\n",
        "assert \"location\" in sample\n"
      ],
      "metadata": {
        "id": "a7DP8JsGRl5A"
      },
      "id": "a7DP8JsGRl5A"
    },
    {
      "cell_type": "markdown",
      "source": [
        "## 💬 AI Prompting Log / Development Summary\n",
        "\n",
        "This project is my first end-to-end Python application using Colab and AI tools.\n",
        "\n",
        "I completed the following key stages:\n",
        "- Understood the structure of the weather data and successfully fetched results using `get_weather_data()`\n",
        "- Built temperature and precipitation visualisations using `matplotlib`\n",
        "- Implemented a natural language interface that parses English questions into structured query formats\n",
        "- Developed a main interactive menu using `input()` to allow users to choose between functions\n",
        "\n",
        "💡 During the process, I encountered:\n",
        "- `NameError: name 'pd' is not defined` because `pandas` was not imported\n",
        "- Functions being called before being defined (ordering of code blocks)\n",
        "- Issues with English input not being parsed correctly\n",
        "\n",
        "I resolved these issues by:\n",
        "- Identifying which section (cell) each function belonged to and running them manually before calling\n",
        "- Debugging the input handling line by line\n",
        "- Reorganising and cleaning up the notebook step by step\n",
        "\n",
        "This project helped me improve my ability to integrate multiple functional modules into a working application.\n"
      ],
      "metadata": {
        "id": "YkhwUhSWSVF7"
      },
      "id": "YkhwUhSWSVF7"
    },
    {
      "cell_type": "code",
      "source": [
        "# ✅ Test the natural language parsing function\n",
        "assert parse_weather_question(\"Will it rain in Perth tomorrow?\")[\"location\"] == \"Perth\"\n",
        "assert parse_weather_question(\"What's the temperature in Sydney today?\")[\"attribute\"] == \"temperature\"\n",
        "\n",
        "# ✅ Test if the weather data returns correctly\n",
        "sample = get_weather_data(\"Melbourne\", forecast_days=3)\n",
        "assert isinstance(sample, dict)\n",
        "assert \"location\" in sample"
      ],
      "metadata": {
        "colab": {
          "base_uri": "https://localhost:8080/",
          "height": 255
        },
        "id": "BiPzr_nYUY9v",
        "outputId": "987b6b31-06ad-4d44-dc76-5b87384133ca"
      },
      "id": "BiPzr_nYUY9v",
      "execution_count": 3,
      "outputs": [
        {
          "output_type": "error",
          "ename": "TypeError",
          "evalue": "'NoneType' object is not subscriptable",
          "traceback": [
            "\u001b[0;31m---------------------------------------------------------------------------\u001b[0m",
            "\u001b[0;31mTypeError\u001b[0m                                 Traceback (most recent call last)",
            "\u001b[0;32m<ipython-input-3-598c0929506a>\u001b[0m in \u001b[0;36m<cell line: 0>\u001b[0;34m()\u001b[0m\n\u001b[1;32m      1\u001b[0m \u001b[0;31m# ✅ Test the natural language parsing function\u001b[0m\u001b[0;34m\u001b[0m\u001b[0;34m\u001b[0m\u001b[0m\n\u001b[0;32m----> 2\u001b[0;31m \u001b[0;32massert\u001b[0m \u001b[0mparse_weather_question\u001b[0m\u001b[0;34m(\u001b[0m\u001b[0;34m\"Will it rain in Perth tomorrow?\"\u001b[0m\u001b[0;34m)\u001b[0m\u001b[0;34m[\u001b[0m\u001b[0;34m\"location\"\u001b[0m\u001b[0;34m]\u001b[0m \u001b[0;34m==\u001b[0m \u001b[0;34m\"Perth\"\u001b[0m\u001b[0;34m\u001b[0m\u001b[0;34m\u001b[0m\u001b[0m\n\u001b[0m\u001b[1;32m      3\u001b[0m \u001b[0;32massert\u001b[0m \u001b[0mparse_weather_question\u001b[0m\u001b[0;34m(\u001b[0m\u001b[0;34m\"What's the temperature in Sydney today?\"\u001b[0m\u001b[0;34m)\u001b[0m\u001b[0;34m[\u001b[0m\u001b[0;34m\"attribute\"\u001b[0m\u001b[0;34m]\u001b[0m \u001b[0;34m==\u001b[0m \u001b[0;34m\"temperature\"\u001b[0m\u001b[0;34m\u001b[0m\u001b[0;34m\u001b[0m\u001b[0m\n\u001b[1;32m      4\u001b[0m \u001b[0;34m\u001b[0m\u001b[0m\n\u001b[1;32m      5\u001b[0m \u001b[0;31m# ✅ Test if the weather data returns correctly\u001b[0m\u001b[0;34m\u001b[0m\u001b[0;34m\u001b[0m\u001b[0m\n",
            "\u001b[0;31mTypeError\u001b[0m: 'NoneType' object is not subscriptable"
          ]
        }
      ]
    },
    {
      "cell_type": "code",
      "source": [
        "# ✅ Test the natural language parsing function\n",
        "assert parse_weather_question(\"Will it rain in Perth tomorrow?\")[\"location\"] == \"Perth\"\n",
        "assert parse_weather_question(\"What's the temperature in Sydney today?\")[\"attribute\"] == \"temperature\"\n",
        "\n",
        "# ✅ Test if the weather data returns correctly\n",
        "sample = get_weather_data(\"Melbourne\", forecast_days=3)\n",
        "assert isinstance(sample, dict)\n",
        "assert \"location\" in sample"
      ],
      "metadata": {
        "colab": {
          "base_uri": "https://localhost:8080/",
          "height": 219
        },
        "id": "lUSH0L_-Vcoe",
        "outputId": "2e3e2802-f43e-4450-ae8d-d9e52b1bca8f"
      },
      "id": "lUSH0L_-Vcoe",
      "execution_count": 17,
      "outputs": [
        {
          "output_type": "error",
          "ename": "NameError",
          "evalue": "name 'get_weather_data' is not defined",
          "traceback": [
            "\u001b[0;31m---------------------------------------------------------------------------\u001b[0m",
            "\u001b[0;31mNameError\u001b[0m                                 Traceback (most recent call last)",
            "\u001b[0;32m<ipython-input-17-598c0929506a>\u001b[0m in \u001b[0;36m<cell line: 0>\u001b[0;34m()\u001b[0m\n\u001b[1;32m      4\u001b[0m \u001b[0;34m\u001b[0m\u001b[0m\n\u001b[1;32m      5\u001b[0m \u001b[0;31m# ✅ Test if the weather data returns correctly\u001b[0m\u001b[0;34m\u001b[0m\u001b[0;34m\u001b[0m\u001b[0m\n\u001b[0;32m----> 6\u001b[0;31m \u001b[0msample\u001b[0m \u001b[0;34m=\u001b[0m \u001b[0mget_weather_data\u001b[0m\u001b[0;34m(\u001b[0m\u001b[0;34m\"Melbourne\"\u001b[0m\u001b[0;34m,\u001b[0m \u001b[0mforecast_days\u001b[0m\u001b[0;34m=\u001b[0m\u001b[0;36m3\u001b[0m\u001b[0;34m)\u001b[0m\u001b[0;34m\u001b[0m\u001b[0;34m\u001b[0m\u001b[0m\n\u001b[0m\u001b[1;32m      7\u001b[0m \u001b[0;32massert\u001b[0m \u001b[0misinstance\u001b[0m\u001b[0;34m(\u001b[0m\u001b[0msample\u001b[0m\u001b[0;34m,\u001b[0m \u001b[0mdict\u001b[0m\u001b[0;34m)\u001b[0m\u001b[0;34m\u001b[0m\u001b[0;34m\u001b[0m\u001b[0m\n\u001b[1;32m      8\u001b[0m \u001b[0;32massert\u001b[0m \u001b[0;34m\"location\"\u001b[0m \u001b[0;32min\u001b[0m \u001b[0msample\u001b[0m\u001b[0;34m\u001b[0m\u001b[0;34m\u001b[0m\u001b[0m\n",
            "\u001b[0;31mNameError\u001b[0m: name 'get_weather_data' is not defined"
          ]
        }
      ]
    },
    {
      "cell_type": "code",
      "source": [
        "# Test natural language parser\n",
        "assert parse_weather_question(\"Will it rain in Perth tomorrow?\")[\"location\"] == \"Perth\"\n",
        "assert parse_weather_question(\"What's the temperature in Sydney today?\")[\"attribute\"] == \"temperature\"\n",
        "\n",
        "# Test weather API\n",
        "sample = get_weather_data(\"Melbourne\")\n",
        "assert isinstance(sample, dict)\n",
        "assert \"location\" in sample\n"
      ],
      "metadata": {
        "colab": {
          "base_uri": "https://localhost:8080/",
          "height": 219
        },
        "id": "atZb34TXwlXS",
        "outputId": "7355e525-7ac4-45a0-8381-a4f73a9979fe"
      },
      "id": "atZb34TXwlXS",
      "execution_count": 18,
      "outputs": [
        {
          "output_type": "error",
          "ename": "NameError",
          "evalue": "name 'get_weather_data' is not defined",
          "traceback": [
            "\u001b[0;31m---------------------------------------------------------------------------\u001b[0m",
            "\u001b[0;31mNameError\u001b[0m                                 Traceback (most recent call last)",
            "\u001b[0;32m<ipython-input-18-ab717b86d651>\u001b[0m in \u001b[0;36m<cell line: 0>\u001b[0;34m()\u001b[0m\n\u001b[1;32m      4\u001b[0m \u001b[0;34m\u001b[0m\u001b[0m\n\u001b[1;32m      5\u001b[0m \u001b[0;31m# Test weather API\u001b[0m\u001b[0;34m\u001b[0m\u001b[0;34m\u001b[0m\u001b[0m\n\u001b[0;32m----> 6\u001b[0;31m \u001b[0msample\u001b[0m \u001b[0;34m=\u001b[0m \u001b[0mget_weather_data\u001b[0m\u001b[0;34m(\u001b[0m\u001b[0;34m\"Melbourne\"\u001b[0m\u001b[0;34m)\u001b[0m\u001b[0;34m\u001b[0m\u001b[0;34m\u001b[0m\u001b[0m\n\u001b[0m\u001b[1;32m      7\u001b[0m \u001b[0;32massert\u001b[0m \u001b[0misinstance\u001b[0m\u001b[0;34m(\u001b[0m\u001b[0msample\u001b[0m\u001b[0;34m,\u001b[0m \u001b[0mdict\u001b[0m\u001b[0;34m)\u001b[0m\u001b[0;34m\u001b[0m\u001b[0;34m\u001b[0m\u001b[0m\n\u001b[1;32m      8\u001b[0m \u001b[0;32massert\u001b[0m \u001b[0;34m\"location\"\u001b[0m \u001b[0;32min\u001b[0m \u001b[0msample\u001b[0m\u001b[0;34m\u001b[0m\u001b[0;34m\u001b[0m\u001b[0m\n",
            "\u001b[0;31mNameError\u001b[0m: name 'get_weather_data' is not defined"
          ]
        }
      ]
    },
    {
      "cell_type": "code",
      "source": [
        "# Test weather API\n",
        "sample = get_weather_data(\"Melbourne\")\n",
        "assert isinstance(sample, dict)\n",
        "assert \"location\" in sample"
      ],
      "metadata": {
        "id": "wv-zDwZIzgS4"
      },
      "id": "wv-zDwZIzgS4",
      "execution_count": 21,
      "outputs": []
    },
    {
      "cell_type": "code",
      "source": [
        "# Test weather API\n",
        "sample = get_weather_data(\"Melbourne\")\n",
        "assert isinstance(sample, dict)\n",
        "assert \"location\" in sample\n"
      ],
      "metadata": {
        "id": "Ue7-zoE91rvX"
      },
      "id": "Ue7-zoE91rvX",
      "execution_count": 23,
      "outputs": []
    },
    {
      "cell_type": "code",
      "source": [
        "main_menu()"
      ],
      "metadata": {
        "colab": {
          "base_uri": "https://localhost:8080/",
          "height": 660
        },
        "id": "CypMoUTxLUtS",
        "outputId": "48df7cbf-28bc-484f-b66c-770221fac1a0"
      },
      "id": "CypMoUTxLUtS",
      "execution_count": 31,
      "outputs": [
        {
          "name": "stdout",
          "output_type": "stream",
          "text": [
            "\n",
            "🌤️ WeatherWise Menu\n",
            "1. Ask a weather question\n",
            "2. Show temperature visualisation\n",
            "3. Show precipitation visualisation\n",
            "4. Exit\n",
            "Enter your choice (1–4): 1\n",
            "Ask your weather question: Will it rain in Perth tomorrow?\n",
            "🧪 当前日期数据： {'date': '2025-05-18', 'maxtempC': '25', 'mintempC': '16'}\n",
            "🧪 当前日期数据： {'date': '2025-05-19', 'maxtempC': '22', 'mintempC': '15'}\n",
            "\n",
            "📌 Answer: In Perth tomorrow, the expected precipitation is N/A.\n",
            "\n",
            "🌤️ WeatherWise Menu\n",
            "1. Ask a weather question\n",
            "2. Show temperature visualisation\n",
            "3. Show precipitation visualisation\n",
            "4. Exit\n",
            "Enter your choice (1–4): 2\n",
            "Enter a city (e.g., Perth): Melbourne\n"
          ]
        },
        {
          "output_type": "error",
          "ename": "KeyError",
          "evalue": "'maxtemp°C'",
          "traceback": [
            "\u001b[0;31m---------------------------------------------------------------------------\u001b[0m",
            "\u001b[0;31mKeyError\u001b[0m                                  Traceback (most recent call last)",
            "\u001b[0;32m<ipython-input-31-a587427b4ad1>\u001b[0m in \u001b[0;36m<cell line: 0>\u001b[0;34m()\u001b[0m\n\u001b[0;32m----> 1\u001b[0;31m \u001b[0mmain_menu\u001b[0m\u001b[0;34m(\u001b[0m\u001b[0;34m)\u001b[0m\u001b[0;34m\u001b[0m\u001b[0;34m\u001b[0m\u001b[0m\n\u001b[0m",
            "\u001b[0;32m<ipython-input-27-cb35158fc2fb>\u001b[0m in \u001b[0;36mmain_menu\u001b[0;34m()\u001b[0m\n\u001b[1;32m     18\u001b[0m             \u001b[0mlocation\u001b[0m \u001b[0;34m=\u001b[0m \u001b[0minput\u001b[0m\u001b[0;34m(\u001b[0m\u001b[0;34m\"Enter a city (e.g., Perth): \"\u001b[0m\u001b[0;34m)\u001b[0m\u001b[0;34m\u001b[0m\u001b[0;34m\u001b[0m\u001b[0m\n\u001b[1;32m     19\u001b[0m             \u001b[0mweather\u001b[0m \u001b[0;34m=\u001b[0m \u001b[0mget_weather_data\u001b[0m\u001b[0;34m(\u001b[0m\u001b[0mlocation\u001b[0m\u001b[0;34m)\u001b[0m\u001b[0;34m\u001b[0m\u001b[0;34m\u001b[0m\u001b[0m\n\u001b[0;32m---> 20\u001b[0;31m             \u001b[0mcreate_temperature_visualisation\u001b[0m\u001b[0;34m(\u001b[0m\u001b[0mweather\u001b[0m\u001b[0;34m)\u001b[0m\u001b[0;34m\u001b[0m\u001b[0;34m\u001b[0m\u001b[0m\n\u001b[0m\u001b[1;32m     21\u001b[0m \u001b[0;34m\u001b[0m\u001b[0m\n\u001b[1;32m     22\u001b[0m         \u001b[0;32melif\u001b[0m \u001b[0mchoice\u001b[0m \u001b[0;34m==\u001b[0m \u001b[0;34m'3'\u001b[0m\u001b[0;34m:\u001b[0m\u001b[0;34m\u001b[0m\u001b[0;34m\u001b[0m\u001b[0m\n",
            "\u001b[0;32m<ipython-input-30-c76d0a2c572d>\u001b[0m in \u001b[0;36mcreate_temperature_visualisation\u001b[0;34m(weather_data)\u001b[0m\n\u001b[1;32m      4\u001b[0m     \u001b[0mforecast\u001b[0m \u001b[0;34m=\u001b[0m \u001b[0mweather_data\u001b[0m\u001b[0;34m[\u001b[0m\u001b[0;34m\"forecast\"\u001b[0m\u001b[0;34m]\u001b[0m\u001b[0;34m\u001b[0m\u001b[0;34m\u001b[0m\u001b[0m\n\u001b[1;32m      5\u001b[0m     \u001b[0mdates\u001b[0m \u001b[0;34m=\u001b[0m \u001b[0;34m[\u001b[0m\u001b[0mday\u001b[0m\u001b[0;34m[\u001b[0m\u001b[0;34m\"date\"\u001b[0m\u001b[0;34m]\u001b[0m \u001b[0;32mfor\u001b[0m \u001b[0mday\u001b[0m \u001b[0;32min\u001b[0m \u001b[0mforecast\u001b[0m\u001b[0;34m]\u001b[0m\u001b[0;34m\u001b[0m\u001b[0;34m\u001b[0m\u001b[0m\n\u001b[0;32m----> 6\u001b[0;31m     \u001b[0mmax_temps\u001b[0m \u001b[0;34m=\u001b[0m \u001b[0;34m[\u001b[0m\u001b[0mint\u001b[0m\u001b[0;34m(\u001b[0m\u001b[0mday\u001b[0m\u001b[0;34m[\u001b[0m\u001b[0;34m\"maxtemp°C\"\u001b[0m\u001b[0;34m]\u001b[0m\u001b[0;34m)\u001b[0m \u001b[0;32mfor\u001b[0m \u001b[0mday\u001b[0m \u001b[0;32min\u001b[0m \u001b[0mforecast\u001b[0m\u001b[0;34m]\u001b[0m\u001b[0;34m\u001b[0m\u001b[0;34m\u001b[0m\u001b[0m\n\u001b[0m\u001b[1;32m      7\u001b[0m     \u001b[0mmin_temps\u001b[0m \u001b[0;34m=\u001b[0m \u001b[0;34m[\u001b[0m\u001b[0mint\u001b[0m\u001b[0;34m(\u001b[0m\u001b[0mday\u001b[0m\u001b[0;34m[\u001b[0m\u001b[0;34m\"mintemp°C\"\u001b[0m\u001b[0;34m]\u001b[0m\u001b[0;34m)\u001b[0m \u001b[0;32mfor\u001b[0m \u001b[0mday\u001b[0m \u001b[0;32min\u001b[0m \u001b[0mforecast\u001b[0m\u001b[0;34m]\u001b[0m\u001b[0;34m\u001b[0m\u001b[0;34m\u001b[0m\u001b[0m\n\u001b[1;32m      8\u001b[0m \u001b[0;34m\u001b[0m\u001b[0m\n",
            "\u001b[0;32m<ipython-input-30-c76d0a2c572d>\u001b[0m in \u001b[0;36m<listcomp>\u001b[0;34m(.0)\u001b[0m\n\u001b[1;32m      4\u001b[0m     \u001b[0mforecast\u001b[0m \u001b[0;34m=\u001b[0m \u001b[0mweather_data\u001b[0m\u001b[0;34m[\u001b[0m\u001b[0;34m\"forecast\"\u001b[0m\u001b[0;34m]\u001b[0m\u001b[0;34m\u001b[0m\u001b[0;34m\u001b[0m\u001b[0m\n\u001b[1;32m      5\u001b[0m     \u001b[0mdates\u001b[0m \u001b[0;34m=\u001b[0m \u001b[0;34m[\u001b[0m\u001b[0mday\u001b[0m\u001b[0;34m[\u001b[0m\u001b[0;34m\"date\"\u001b[0m\u001b[0;34m]\u001b[0m \u001b[0;32mfor\u001b[0m \u001b[0mday\u001b[0m \u001b[0;32min\u001b[0m \u001b[0mforecast\u001b[0m\u001b[0;34m]\u001b[0m\u001b[0;34m\u001b[0m\u001b[0;34m\u001b[0m\u001b[0m\n\u001b[0;32m----> 6\u001b[0;31m     \u001b[0mmax_temps\u001b[0m \u001b[0;34m=\u001b[0m \u001b[0;34m[\u001b[0m\u001b[0mint\u001b[0m\u001b[0;34m(\u001b[0m\u001b[0mday\u001b[0m\u001b[0;34m[\u001b[0m\u001b[0;34m\"maxtemp°C\"\u001b[0m\u001b[0;34m]\u001b[0m\u001b[0;34m)\u001b[0m \u001b[0;32mfor\u001b[0m \u001b[0mday\u001b[0m \u001b[0;32min\u001b[0m \u001b[0mforecast\u001b[0m\u001b[0;34m]\u001b[0m\u001b[0;34m\u001b[0m\u001b[0;34m\u001b[0m\u001b[0m\n\u001b[0m\u001b[1;32m      7\u001b[0m     \u001b[0mmin_temps\u001b[0m \u001b[0;34m=\u001b[0m \u001b[0;34m[\u001b[0m\u001b[0mint\u001b[0m\u001b[0;34m(\u001b[0m\u001b[0mday\u001b[0m\u001b[0;34m[\u001b[0m\u001b[0;34m\"mintemp°C\"\u001b[0m\u001b[0;34m]\u001b[0m\u001b[0;34m)\u001b[0m \u001b[0;32mfor\u001b[0m \u001b[0mday\u001b[0m \u001b[0;32min\u001b[0m \u001b[0mforecast\u001b[0m\u001b[0;34m]\u001b[0m\u001b[0;34m\u001b[0m\u001b[0;34m\u001b[0m\u001b[0m\n\u001b[1;32m      8\u001b[0m \u001b[0;34m\u001b[0m\u001b[0m\n",
            "\u001b[0;31mKeyError\u001b[0m: 'maxtemp°C'"
          ]
        }
      ]
    }
  ],
  "metadata": {
    "language_info": {
      "name": "python"
    },
    "colab": {
      "provenance": [],
      "include_colab_link": true
    },
    "kernelspec": {
      "name": "python3",
      "display_name": "Python 3"
    }
  },
  "nbformat": 4,
  "nbformat_minor": 5
}